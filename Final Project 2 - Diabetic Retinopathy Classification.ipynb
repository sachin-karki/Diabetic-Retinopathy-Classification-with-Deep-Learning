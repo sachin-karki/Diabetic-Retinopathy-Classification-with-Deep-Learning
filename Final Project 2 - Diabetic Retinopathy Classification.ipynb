{
 "cells": [
  {
   "cell_type": "markdown",
   "id": "c855063e-9abf-4456-a1f9-42d0619fffba",
   "metadata": {},
   "source": [
    "# **1. Importing Libraries**"
   ]
  },
  {
   "cell_type": "code",
   "execution_count": 98,
   "id": "cf051aa0-cd7d-49dc-8c88-bd17676e4424",
   "metadata": {},
   "outputs": [],
   "source": [
    "#Basic libraries\n",
    "import os\n",
    "import numpy as np\n",
    "import tensorflow as tf\n",
    "import pandas as pd\n",
    "\n",
    "#Visualization\n",
    "import matplotlib.pyplot as plt\n",
    "import seaborn as sns\n",
    "\n",
    "#Tensor Flow Packages\n",
    "from tensorflow.keras.preprocessing.image import ImageDataGenerator\n",
    "from tensorflow.keras import layers, models\n",
    "\n",
    "#DL/CNN Model\n",
    "from tensorflow.keras.applications import ResNet50\n",
    "from tensorflow.keras.applications import VGG16\n",
    "from tensorflow.keras.applications import InceptionV3\n",
    "\n",
    "#ML Classification Model\n",
    "from sklearn.ensemble import RandomForestClassifier\n",
    "\n",
    "#Metrics\n",
    "from sklearn.model_selection import train_test_split\n",
    "from sklearn.metrics import accuracy_score, f1_score, classification_report"
   ]
  },
  {
   "cell_type": "markdown",
   "id": "c3af0402-51c2-4c24-8e53-e4ea87d1798b",
   "metadata": {},
   "source": [
    "# **2. Loading and Preprocessing Images**"
   ]
  },
  {
   "cell_type": "code",
   "execution_count": 100,
   "id": "2603627a-9bb0-46e1-9f8f-844328cf6e7a",
   "metadata": {},
   "outputs": [],
   "source": [
    "# Set up directories for images\n",
    "image_dir = 'Desktop/My Courses/Spring 2025/Machine Learning/Final Project/retinopathy_3Classes'  # path to images\n",
    "labels = []  # List to hold labels (0, 1, 2 for healthy, moderate DR, severe DR)\n",
    "image_paths = []  # List to hold image paths\n",
    "\n",
    "# Collect image paths and corresponding labels\n",
    "for filename in os.listdir(image_dir):\n",
    "    if filename.endswith('.jpeg'):\n",
    "        id_side_class = filename.split('_')  # ID_Side_Class.jpeg\n",
    "        label = int(id_side_class[-1].split('.')[0])  # Last part is the class\n",
    "        image_paths.append(os.path.join(image_dir, filename))\n",
    "        labels.append(label)\n",
    "\n",
    "# Convert labels to numpy array\n",
    "labels = np.array(labels)\n",
    "\n",
    "# Load and preprocess images\n",
    "images = []\n",
    "for path in image_paths:\n",
    "    img = tf.keras.preprocessing.image.load_img(path, target_size=(224, 224))\n",
    "    img_array = tf.keras.preprocessing.image.img_to_array(img) / 255.0  # Normalize\n",
    "    images.append(img_array)\n",
    "\n",
    "images = np.array(images)\n",
    "\n",
    "# Split into training and testing sets (80% / 20%)\n",
    "X_train, X_test, y_train, y_test = train_test_split(images, labels, test_size=0.2, stratify=labels, random_state=42)"
   ]
  },
  {
   "cell_type": "markdown",
   "id": "a59ccd76-8b6f-45e7-bb63-3da042b453f2",
   "metadata": {},
   "source": [
    "# **3. Build Models**"
   ]
  },
  {
   "cell_type": "markdown",
   "id": "9df615f5-7333-442c-981e-4690bfd23704",
   "metadata": {},
   "source": [
    "## **i. ResNet-50 Model**"
   ]
  },
  {
   "cell_type": "code",
   "execution_count": 103,
   "id": "eb0d9c00-13a7-40ac-887f-a547e0186b1c",
   "metadata": {},
   "outputs": [],
   "source": [
    "# Load ResNet50 model\n",
    "base_model_resnet = ResNet50(weights='imagenet', include_top=False, input_shape=(224, 224, 3))\n",
    "\n",
    "# Freeze the base model layers\n",
    "base_model_resnet.trainable = False\n",
    "\n",
    "# Create the model\n",
    "model_resnet = models.Sequential([\n",
    "    base_model_resnet,  # Pre-trained ResNet50 base\n",
    "    layers.GlobalAveragePooling2D(),  # Global average pooling to reduce the output to a vector\n",
    "    layers.Dense(3, activation='softmax')  # Output layer with 3 classes\n",
    "])\n",
    "\n",
    "# Compile the model\n",
    "model_resnet.compile(optimizer='adam', loss='sparse_categorical_crossentropy', metrics=['accuracy'])"
   ]
  },
  {
   "cell_type": "markdown",
   "id": "c5879d27-ea7a-42c4-b293-901a8adc4f5c",
   "metadata": {},
   "source": [
    "## **ii. VGG-16 Model**"
   ]
  },
  {
   "cell_type": "code",
   "execution_count": 105,
   "id": "51454240-522c-42f3-994b-f139e108e2c7",
   "metadata": {},
   "outputs": [],
   "source": [
    "# Load VGG-16 model\n",
    "base_model_vgg = VGG16(weights='imagenet', include_top=False, input_shape=(224, 224, 3))\n",
    "\n",
    "# Freeze the base model layers\n",
    "base_model_vgg.trainable = False\n",
    "\n",
    "# Create the model\n",
    "model_vgg = models.Sequential([\n",
    "    base_model_vgg,  # Pre-trained VGG16 base\n",
    "    layers.GlobalAveragePooling2D(),  # Global average pooling to reduce the output to a vector\n",
    "    layers.Dense(3, activation='softmax')  # Output layer with 3 classes\n",
    "])\n",
    "\n",
    "# Compile the model\n",
    "model_vgg.compile(optimizer='adam', loss='sparse_categorical_crossentropy', metrics=['accuracy'])"
   ]
  },
  {
   "cell_type": "markdown",
   "id": "c4864e7f-1a4c-4a16-b74d-effb67d872b6",
   "metadata": {},
   "source": [
    "## **iii. InceptionV3 Model**"
   ]
  },
  {
   "cell_type": "code",
   "execution_count": 107,
   "id": "64d11216-d0d2-4f2a-a245-5f2bf41bdfdf",
   "metadata": {},
   "outputs": [],
   "source": [
    "# Load InceptionV3 model\n",
    "base_model_inception = InceptionV3(weights='imagenet', include_top=False, input_shape=(224, 224, 3))\n",
    "\n",
    "# Freeze the base model layers\n",
    "base_model_inception.trainable = False\n",
    "\n",
    "# Create the model\n",
    "model_inception = models.Sequential([\n",
    "    base_model_inception,  # Pre-trained InceptionV3 base\n",
    "    layers.GlobalAveragePooling2D(),  # Global average pooling to reduce the output to a vector\n",
    "    layers.Dense(3, activation='softmax')  # Output layer with 3 classes\n",
    "])\n",
    "\n",
    "# Compile the model\n",
    "model_inception.compile(optimizer='adam', loss='sparse_categorical_crossentropy', metrics=['accuracy'])"
   ]
  },
  {
   "cell_type": "markdown",
   "id": "e65a61cf-fefd-4399-869e-1d086b286b25",
   "metadata": {},
   "source": [
    "# **4. ML Classification Model**"
   ]
  },
  {
   "cell_type": "code",
   "execution_count": 109,
   "id": "8ba4d585-aa65-4392-a77f-a52344f69d5b",
   "metadata": {},
   "outputs": [
    {
     "name": "stdout",
     "output_type": "stream",
     "text": [
      "Random Forest Accuracy: 0.5837\n",
      "Random Forest F1 Score: 0.4876\n"
     ]
    }
   ],
   "source": [
    "# Flatten the images so they can be used in traditional ML models (Random Forest)\n",
    "X_train_flattened = X_train.reshape(X_train.shape[0], -1)  # Flatten the images into 1D vectors\n",
    "X_test_flattened = X_test.reshape(X_test.shape[0], -1)\n",
    "\n",
    "# Train a Random Forest model\n",
    "rf_model = RandomForestClassifier(n_estimators=100, random_state=42)\n",
    "rf_model.fit(X_train_flattened, y_train)\n",
    "\n",
    "# Predictions on the test set\n",
    "rf_pred = rf_model.predict(X_test_flattened)\n",
    "\n",
    "# Calculate Accuracy and F1-score\n",
    "rf_accuracy = accuracy_score(y_test, rf_pred)\n",
    "rf_f1 = f1_score(y_test, rf_pred, average='weighted')\n",
    "\n",
    "print(f\"Random Forest Accuracy: {rf_accuracy:.4f}\")\n",
    "print(f\"Random Forest F1 Score: {rf_f1:.4f}\")"
   ]
  },
  {
   "cell_type": "markdown",
   "id": "89c9f609-7e7f-44e3-a444-9edd680d1b8f",
   "metadata": {},
   "source": [
    "# **5. Training Models**"
   ]
  },
  {
   "cell_type": "code",
   "execution_count": 111,
   "id": "3232720b-7ffc-4c0b-8677-4c1c7f0fcc25",
   "metadata": {},
   "outputs": [
    {
     "name": "stdout",
     "output_type": "stream",
     "text": [
      "Epoch 1/10\n",
      "\u001b[1m53/53\u001b[0m \u001b[32m━━━━━━━━━━━━━━━━━━━━\u001b[0m\u001b[37m\u001b[0m \u001b[1m50s\u001b[0m 900ms/step - accuracy: 0.5361 - loss: 0.9871 - val_accuracy: 0.5837 - val_loss: 0.9479\n",
      "Epoch 2/10\n",
      "\u001b[1m53/53\u001b[0m \u001b[32m━━━━━━━━━━━━━━━━━━━━\u001b[0m\u001b[37m\u001b[0m \u001b[1m44s\u001b[0m 836ms/step - accuracy: 0.5895 - loss: 0.9496 - val_accuracy: 0.5837 - val_loss: 0.9529\n",
      "Epoch 3/10\n",
      "\u001b[1m53/53\u001b[0m \u001b[32m━━━━━━━━━━━━━━━━━━━━\u001b[0m\u001b[37m\u001b[0m \u001b[1m44s\u001b[0m 839ms/step - accuracy: 0.5972 - loss: 0.9525 - val_accuracy: 0.5837 - val_loss: 0.9503\n",
      "Epoch 4/10\n",
      "\u001b[1m53/53\u001b[0m \u001b[32m━━━━━━━━━━━━━━━━━━━━\u001b[0m\u001b[37m\u001b[0m \u001b[1m44s\u001b[0m 832ms/step - accuracy: 0.5843 - loss: 0.9612 - val_accuracy: 0.5837 - val_loss: 0.9480\n",
      "Epoch 5/10\n",
      "\u001b[1m53/53\u001b[0m \u001b[32m━━━━━━━━━━━━━━━━━━━━\u001b[0m\u001b[37m\u001b[0m \u001b[1m55s\u001b[0m 1s/step - accuracy: 0.5806 - loss: 0.9669 - val_accuracy: 0.5837 - val_loss: 0.9457\n",
      "Epoch 6/10\n",
      "\u001b[1m53/53\u001b[0m \u001b[32m━━━━━━━━━━━━━━━━━━━━\u001b[0m\u001b[37m\u001b[0m \u001b[1m44s\u001b[0m 840ms/step - accuracy: 0.5808 - loss: 0.9619 - val_accuracy: 0.5837 - val_loss: 0.9513\n",
      "Epoch 7/10\n",
      "\u001b[1m53/53\u001b[0m \u001b[32m━━━━━━━━━━━━━━━━━━━━\u001b[0m\u001b[37m\u001b[0m \u001b[1m45s\u001b[0m 860ms/step - accuracy: 0.5896 - loss: 0.9510 - val_accuracy: 0.5837 - val_loss: 0.9582\n",
      "Epoch 8/10\n",
      "\u001b[1m53/53\u001b[0m \u001b[32m━━━━━━━━━━━━━━━━━━━━\u001b[0m\u001b[37m\u001b[0m \u001b[1m45s\u001b[0m 853ms/step - accuracy: 0.5601 - loss: 0.9616 - val_accuracy: 0.5837 - val_loss: 0.9459\n",
      "Epoch 9/10\n",
      "\u001b[1m53/53\u001b[0m \u001b[32m━━━━━━━━━━━━━━━━━━━━\u001b[0m\u001b[37m\u001b[0m \u001b[1m49s\u001b[0m 921ms/step - accuracy: 0.6046 - loss: 0.9281 - val_accuracy: 0.5837 - val_loss: 0.9472\n",
      "Epoch 10/10\n",
      "\u001b[1m53/53\u001b[0m \u001b[32m━━━━━━━━━━━━━━━━━━━━\u001b[0m\u001b[37m\u001b[0m \u001b[1m47s\u001b[0m 888ms/step - accuracy: 0.5822 - loss: 0.9601 - val_accuracy: 0.5837 - val_loss: 0.9496\n",
      "Epoch 1/10\n",
      "\u001b[1m53/53\u001b[0m \u001b[32m━━━━━━━━━━━━━━━━━━━━\u001b[0m\u001b[37m\u001b[0m \u001b[1m161s\u001b[0m 3s/step - accuracy: 0.5941 - loss: 0.9398 - val_accuracy: 0.5837 - val_loss: 0.9419\n",
      "Epoch 2/10\n",
      "\u001b[1m53/53\u001b[0m \u001b[32m━━━━━━━━━━━━━━━━━━━━\u001b[0m\u001b[37m\u001b[0m \u001b[1m160s\u001b[0m 3s/step - accuracy: 0.5990 - loss: 0.9220 - val_accuracy: 0.5837 - val_loss: 0.9214\n",
      "Epoch 3/10\n",
      "\u001b[1m53/53\u001b[0m \u001b[32m━━━━━━━━━━━━━━━━━━━━\u001b[0m\u001b[37m\u001b[0m \u001b[1m161s\u001b[0m 3s/step - accuracy: 0.5749 - loss: 0.9310 - val_accuracy: 0.5766 - val_loss: 0.9261\n",
      "Epoch 4/10\n",
      "\u001b[1m53/53\u001b[0m \u001b[32m━━━━━━━━━━━━━━━━━━━━\u001b[0m\u001b[37m\u001b[0m \u001b[1m154s\u001b[0m 3s/step - accuracy: 0.5854 - loss: 0.9111 - val_accuracy: 0.5837 - val_loss: 0.9077\n",
      "Epoch 5/10\n",
      "\u001b[1m53/53\u001b[0m \u001b[32m━━━━━━━━━━━━━━━━━━━━\u001b[0m\u001b[37m\u001b[0m \u001b[1m157s\u001b[0m 3s/step - accuracy: 0.5852 - loss: 0.9153 - val_accuracy: 0.5813 - val_loss: 0.9144\n",
      "Epoch 6/10\n",
      "\u001b[1m53/53\u001b[0m \u001b[32m━━━━━━━━━━━━━━━━━━━━\u001b[0m\u001b[37m\u001b[0m \u001b[1m153s\u001b[0m 3s/step - accuracy: 0.5730 - loss: 0.9146 - val_accuracy: 0.5837 - val_loss: 0.8992\n",
      "Epoch 7/10\n",
      "\u001b[1m53/53\u001b[0m \u001b[32m━━━━━━━━━━━━━━━━━━━━\u001b[0m\u001b[37m\u001b[0m \u001b[1m154s\u001b[0m 3s/step - accuracy: 0.5847 - loss: 0.8910 - val_accuracy: 0.5837 - val_loss: 0.8967\n",
      "Epoch 8/10\n",
      "\u001b[1m53/53\u001b[0m \u001b[32m━━━━━━━━━━━━━━━━━━━━\u001b[0m\u001b[37m\u001b[0m \u001b[1m163s\u001b[0m 3s/step - accuracy: 0.5856 - loss: 0.8977 - val_accuracy: 0.5837 - val_loss: 0.8938\n",
      "Epoch 9/10\n",
      "\u001b[1m53/53\u001b[0m \u001b[32m━━━━━━━━━━━━━━━━━━━━\u001b[0m\u001b[37m\u001b[0m \u001b[1m156s\u001b[0m 3s/step - accuracy: 0.5856 - loss: 0.8892 - val_accuracy: 0.5837 - val_loss: 0.8916\n",
      "Epoch 10/10\n",
      "\u001b[1m53/53\u001b[0m \u001b[32m━━━━━━━━━━━━━━━━━━━━\u001b[0m\u001b[37m\u001b[0m \u001b[1m163s\u001b[0m 3s/step - accuracy: 0.5854 - loss: 0.8987 - val_accuracy: 0.5861 - val_loss: 0.8906\n",
      "Epoch 1/10\n",
      "\u001b[1m53/53\u001b[0m \u001b[32m━━━━━━━━━━━━━━━━━━━━\u001b[0m\u001b[37m\u001b[0m \u001b[1m37s\u001b[0m 655ms/step - accuracy: 0.5226 - loss: 1.0444 - val_accuracy: 0.5933 - val_loss: 0.8864\n",
      "Epoch 2/10\n",
      "\u001b[1m53/53\u001b[0m \u001b[32m━━━━━━━━━━━━━━━━━━━━\u001b[0m\u001b[37m\u001b[0m \u001b[1m34s\u001b[0m 639ms/step - accuracy: 0.6023 - loss: 0.8548 - val_accuracy: 0.6268 - val_loss: 0.9165\n",
      "Epoch 3/10\n",
      "\u001b[1m53/53\u001b[0m \u001b[32m━━━━━━━━━━━━━━━━━━━━\u001b[0m\u001b[37m\u001b[0m \u001b[1m36s\u001b[0m 675ms/step - accuracy: 0.6290 - loss: 0.8201 - val_accuracy: 0.6268 - val_loss: 0.8429\n",
      "Epoch 4/10\n",
      "\u001b[1m53/53\u001b[0m \u001b[32m━━━━━━━━━━━━━━━━━━━━\u001b[0m\u001b[37m\u001b[0m \u001b[1m34s\u001b[0m 634ms/step - accuracy: 0.6831 - loss: 0.7238 - val_accuracy: 0.6364 - val_loss: 0.8334\n",
      "Epoch 5/10\n",
      "\u001b[1m53/53\u001b[0m \u001b[32m━━━━━━━━━━━━━━━━━━━━\u001b[0m\u001b[37m\u001b[0m \u001b[1m33s\u001b[0m 627ms/step - accuracy: 0.6982 - loss: 0.7001 - val_accuracy: 0.5861 - val_loss: 0.8628\n",
      "Epoch 6/10\n",
      "\u001b[1m53/53\u001b[0m \u001b[32m━━━━━━━━━━━━━━━━━━━━\u001b[0m\u001b[37m\u001b[0m \u001b[1m33s\u001b[0m 619ms/step - accuracy: 0.7064 - loss: 0.6859 - val_accuracy: 0.5789 - val_loss: 0.8776\n",
      "Epoch 7/10\n",
      "\u001b[1m53/53\u001b[0m \u001b[32m━━━━━━━━━━━━━━━━━━━━\u001b[0m\u001b[37m\u001b[0m \u001b[1m33s\u001b[0m 629ms/step - accuracy: 0.7171 - loss: 0.6681 - val_accuracy: 0.6077 - val_loss: 0.8487\n",
      "Epoch 8/10\n",
      "\u001b[1m53/53\u001b[0m \u001b[32m━━━━━━━━━━━━━━━━━━━━\u001b[0m\u001b[37m\u001b[0m \u001b[1m36s\u001b[0m 677ms/step - accuracy: 0.6907 - loss: 0.6990 - val_accuracy: 0.5933 - val_loss: 0.8604\n",
      "Epoch 9/10\n",
      "\u001b[1m53/53\u001b[0m \u001b[32m━━━━━━━━━━━━━━━━━━━━\u001b[0m\u001b[37m\u001b[0m \u001b[1m34s\u001b[0m 639ms/step - accuracy: 0.7062 - loss: 0.6734 - val_accuracy: 0.6483 - val_loss: 0.8220\n",
      "Epoch 10/10\n",
      "\u001b[1m53/53\u001b[0m \u001b[32m━━━━━━━━━━━━━━━━━━━━\u001b[0m\u001b[37m\u001b[0m \u001b[1m32s\u001b[0m 610ms/step - accuracy: 0.7302 - loss: 0.6337 - val_accuracy: 0.6459 - val_loss: 0.8146\n"
     ]
    }
   ],
   "source": [
    "# Train the ResNet-50 model\n",
    "history_resnet = model_resnet.fit(X_train, y_train, validation_data=(X_test, y_test), epochs=10, batch_size=32)\n",
    "\n",
    "# Train the VGG-16 model\n",
    "history_vgg = model_vgg.fit(X_train, y_train, validation_data=(X_test, y_test), epochs=10, batch_size=32)\n",
    "\n",
    "# Train the InceptionV3 model\n",
    "history_inception = model_inception.fit(X_train, y_train, validation_data=(X_test, y_test), epochs=10, batch_size=32)"
   ]
  },
  {
   "cell_type": "markdown",
   "id": "fca034aa-e2db-4540-9d15-e06f1dc0b4c3",
   "metadata": {},
   "source": [
    "# **6. Evaluation and Metrics**"
   ]
  },
  {
   "cell_type": "code",
   "execution_count": 113,
   "id": "2a0c0fcc-723c-4c70-9905-65949ba837dd",
   "metadata": {},
   "outputs": [
    {
     "name": "stdout",
     "output_type": "stream",
     "text": [
      "\u001b[1m14/14\u001b[0m \u001b[32m━━━━━━━━━━━━━━━━━━━━\u001b[0m\u001b[37m\u001b[0m \u001b[1m11s\u001b[0m 730ms/step\n",
      "\u001b[1m14/14\u001b[0m \u001b[32m━━━━━━━━━━━━━━━━━━━━\u001b[0m\u001b[37m\u001b[0m \u001b[1m32s\u001b[0m 2s/step\n",
      "\u001b[1m14/14\u001b[0m \u001b[32m━━━━━━━━━━━━━━━━━━━━\u001b[0m\u001b[37m\u001b[0m \u001b[1m10s\u001b[0m 639ms/step\n",
      "           Model  Accuracy  F1 Score\n",
      "0      ResNet-50  0.583732  0.430304\n",
      "1         VGG-16  0.586124  0.436243\n",
      "2    InceptionV3  0.645933  0.613259\n",
      "3  Random Forest  0.583732  0.487595\n"
     ]
    }
   ],
   "source": [
    "# Get Accuracy and F1-Score for each model\n",
    "resnet_acc = history_resnet.history['val_accuracy'][-1]\n",
    "vgg_acc = history_vgg.history['val_accuracy'][-1]\n",
    "inception_acc = history_inception.history['val_accuracy'][-1]\n",
    "\n",
    "# Random Forest metrics computed above\n",
    "rf_acc = rf_accuracy\n",
    "rf_f1 = rf_f1\n",
    "\n",
    "# Create a summary table with F1-scores computed\n",
    "results = {\n",
    "    'Model': ['ResNet-50', 'VGG-16', 'InceptionV3', 'Random Forest'],\n",
    "    'Accuracy': [resnet_acc, vgg_acc, inception_acc, rf_acc],\n",
    "    'F1 Score': [\n",
    "        f1_score(y_test, model_resnet.predict(X_test).argmax(axis=1), average='weighted'),\n",
    "        f1_score(y_test, model_vgg.predict(X_test).argmax(axis=1), average='weighted'),\n",
    "        f1_score(y_test, model_inception.predict(X_test).argmax(axis=1), average='weighted'),\n",
    "        rf_f1\n",
    "    ]\n",
    "}\n",
    "# Convert to DataFrame for easy viewing\n",
    "results_df = pd.DataFrame(results)\n",
    "print(results_df)"
   ]
  },
  {
   "cell_type": "markdown",
   "id": "d74c1cc1-0b79-4b6c-88b9-595446b34156",
   "metadata": {},
   "source": [
    "# **7. Visualizing Scores**"
   ]
  },
  {
   "cell_type": "code",
   "execution_count": 115,
   "id": "34bb90a6-b6e6-4c00-a0ce-6b8125f40f38",
   "metadata": {},
   "outputs": [
    {
     "data": {
      "image/png": "[encoded data removed]",
      "text/plain": [
       "<Figure size 800x600 with 1 Axes>"
      ]
     },
     "metadata": {},
     "output_type": "display_data"
    }
   ],
   "source": [
    "# Reshape the DataFrame for easier plotting\n",
    "results_df_melted = results_df.melt(id_vars=\"Model\", value_vars=[\"Accuracy\", \"F1 Score\"], \n",
    "                                    var_name=\"Metric\", value_name=\"Score\")\n",
    "# Create the combined bar plot\n",
    "plt.figure(figsize=(8, 6))\n",
    "sns.barplot(x=\"Model\", y=\"Score\", hue=\"Metric\", data=results_df_melted, palette=\"Set2\")\n",
    "\n",
    "# Titles and labels\n",
    "plt.title('Comparison of Accuracy and F1-Score for Each Model')\n",
    "plt.xticks(rotation=45)\n",
    "plt.ylim(0, 1)\n",
    "plt.ylabel('Score')\n",
    "\n",
    "# Show plot\n",
    "plt.tight_layout()\n",
    "plt.show()"
   ]
  },
  {
   "cell_type": "markdown",
   "id": "2dbbdd47-4183-434d-bb69-99a2482d83a6",
   "metadata": {},
   "source": [
    "# **8. Classification Reports for each Model**"
   ]
  },
  {
   "cell_type": "code",
   "execution_count": 129,
   "id": "1482d2e4-a3ab-48cd-bbff-fbeae9c771a7",
   "metadata": {},
   "outputs": [
    {
     "name": "stdout",
     "output_type": "stream",
     "text": [
      "Classification Report for ResNet-50:\n",
      "\u001b[1m14/14\u001b[0m \u001b[32m━━━━━━━━━━━━━━━━━━━━\u001b[0m\u001b[37m\u001b[0m \u001b[1m9s\u001b[0m 630ms/step\n",
      "              precision    recall  f1-score   support\n",
      "\n",
      "           0       0.58      1.00      0.74       244\n",
      "           1       0.00      0.00      0.00       112\n",
      "           2       0.00      0.00      0.00        62\n",
      "\n",
      "    accuracy                           0.58       418\n",
      "   macro avg       0.19      0.33      0.25       418\n",
      "weighted avg       0.34      0.58      0.43       418\n",
      "\n",
      "Classification Report for VGG-16:\n",
      "\u001b[1m14/14\u001b[0m \u001b[32m━━━━━━━━━━━━━━━━━━━━\u001b[0m\u001b[37m\u001b[0m \u001b[1m33s\u001b[0m 2s/step\n",
      "              precision    recall  f1-score   support\n",
      "\n",
      "           0       0.59      1.00      0.74       244\n",
      "           1       0.00      0.00      0.00       112\n",
      "           2       0.50      0.02      0.03        62\n",
      "\n",
      "    accuracy                           0.59       418\n",
      "   macro avg       0.36      0.34      0.26       418\n",
      "weighted avg       0.42      0.59      0.44       418\n",
      "\n",
      "Classification Report for InceptionV3:\n",
      "\u001b[1m14/14\u001b[0m \u001b[32m━━━━━━━━━━━━━━━━━━━━\u001b[0m\u001b[37m\u001b[0m \u001b[1m7s\u001b[0m 466ms/step\n",
      "              precision    recall  f1-score   support\n",
      "\n",
      "           0       0.70      0.86      0.77       244\n",
      "           1       0.44      0.21      0.29       112\n",
      "           2       0.57      0.60      0.58        62\n",
      "\n",
      "    accuracy                           0.65       418\n",
      "   macro avg       0.57      0.56      0.55       418\n",
      "weighted avg       0.61      0.65      0.61       418\n",
      "\n",
      "Classification Report for Random Forest:\n",
      "              precision    recall  f1-score   support\n",
      "\n",
      "           0       0.61      0.94      0.74       244\n",
      "           1       0.33      0.12      0.17       112\n",
      "           2       0.40      0.03      0.06        62\n",
      "\n",
      "    accuracy                           0.58       418\n",
      "   macro avg       0.45      0.36      0.32       418\n",
      "weighted avg       0.51      0.58      0.49       418\n",
      "\n"
     ]
    }
   ],
   "source": [
    "# Classification Reports for each model\n",
    "print(\"Classification Report for ResNet-50:\") #ResNet-50\n",
    "print(classification_report(y_test, model_resnet.predict(X_test).argmax(axis=1), zero_division=0))\n",
    "\n",
    "print(\"Classification Report for VGG-16:\") #VGG-16\n",
    "print(classification_report(y_test, model_vgg.predict(X_test).argmax(axis=1), zero_division=0))\n",
    "\n",
    "print(\"Classification Report for InceptionV3:\") #InceptionV3\n",
    "print(classification_report(y_test, model_inception.predict(X_test).argmax(axis=1), zero_division=0))\n",
    "\n",
    "print(\"Classification Report for Random Forest:\") #Random Forest\n",
    "print(classification_report(y_test, rf_pred, zero_division=0))"
   ]
  },
  {
   "cell_type": "code",
   "execution_count": null,
   "id": "3de0ab12-1d03-48e9-b581-a7f1547f574b",
   "metadata": {},
   "outputs": [],
   "source": []
  }
 ],
 "metadata": {
  "kernelspec": {
   "display_name": "Python 3 (ipykernel)",
   "language": "python",
   "name": "python3"
  },
  "language_info": {
   "codemirror_mode": {
    "name": "ipython",
    "version": 3
   },
   "file_extension": ".py",
   "mimetype": "text/x-python",
   "name": "python",
   "nbconvert_exporter": "python",
   "pygments_lexer": "ipython3",
   "version": "3.12.4"
  }
 },
 "nbformat": 4,
 "nbformat_minor": 5
}
